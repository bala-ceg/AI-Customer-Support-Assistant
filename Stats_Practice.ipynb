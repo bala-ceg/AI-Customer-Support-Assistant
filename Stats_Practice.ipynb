{
  "nbformat": 4,
  "nbformat_minor": 0,
  "metadata": {
    "colab": {
      "provenance": [],
      "authorship_tag": "ABX9TyNKFr27Oef7TzU5XSsIKR0I",
      "include_colab_link": true
    },
    "kernelspec": {
      "name": "python3",
      "display_name": "Python 3"
    },
    "language_info": {
      "name": "python"
    }
  },
  "cells": [
    {
      "cell_type": "markdown",
      "metadata": {
        "id": "view-in-github",
        "colab_type": "text"
      },
      "source": [
        "<a href=\"https://colab.research.google.com/github/bala-ceg/AI-Customer-Support-Assistant/blob/main/Stats_Practice.ipynb\" target=\"_parent\"><img src=\"https://colab.research.google.com/assets/colab-badge.svg\" alt=\"Open In Colab\"/></a>"
      ]
    },
    {
      "cell_type": "code",
      "execution_count": 3,
      "metadata": {
        "colab": {
          "base_uri": "https://localhost:8080/"
        },
        "id": "0jEdtVwzipku",
        "outputId": "526e5205-8100-4324-afb4-38096ce04c30"
      },
      "outputs": [
        {
          "output_type": "stream",
          "name": "stdout",
          "text": [
            "[-1.41421356 -0.70710678  0.          0.70710678  1.41421356]\n",
            "3.0\n",
            "1.4142135623730951\n"
          ]
        }
      ],
      "source": [
        "import numpy as np\n",
        "\n",
        "\n",
        "data = np.array([1, 2, 3, 4, 5])\n",
        "\n",
        "mean, std_dev = np.mean(data), np.std(data)\n",
        "\n",
        "z_scores = (data - mean) / std_dev\n",
        "\n",
        "print(z_scores)\n",
        "print(mean)\n",
        "print(std_dev)"
      ]
    }
  ]
}